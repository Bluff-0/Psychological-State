{
 "cells": [
  {
   "cell_type": "code",
   "execution_count": 3,
   "metadata": {},
   "outputs": [],
   "source": [
    "import numpy as np\n",
    "import pandas as pd\n",
    "import os\n",
    "from scipy.io import wavfile\n",
    "import librosa"
   ]
  },
  {
   "cell_type": "code",
   "execution_count": 17,
   "metadata": {},
   "outputs": [],
   "source": [
    "def envelope(y, rate, threshold=0.0005):\n",
    "    mask=[]\n",
    "    y= pd.Series(y).apply(np.abs)\n",
    "    y_mean=y.rolling(window= int(rate/10), min_periods= 1, center= True).mean()\n",
    "    for mean in y_mean:\n",
    "        if mean > threshold:\n",
    "            mask.append(True)\n",
    "        else:\n",
    "            mask.append(False)\n",
    "    return mask\n",
    "h= -1\n",
    "s= -1\n",
    "a= -1\n",
    "fe= -1\n",
    "d= -1\n",
    "i= -1\n",
    "nu= -1"
   ]
  },
  {
   "cell_type": "code",
   "execution_count": 22,
   "metadata": {},
   "outputs": [],
   "source": [
    "for j, f in enumerate(os.listdir(r'C:\\Users\\KIIT\\Pypy\\Speech Processing\\Emotion Detection\\EMO-DB\\wav')):\n",
    "    if f[0:2] == '16':\n",
    "        signal, rate= librosa.load('C:\\\\Users\\\\KIIT\\\\Pypy\\\\Speech Processing\\\\Emotion Detection\\\\EMO-DB\\\\wav\\\\'+f, sr=22500)\n",
    "        if f[5:6] == 'N':\n",
    "            nu+=1\n",
    "            wavfile.write(filename='C:\\\\Users\\\\KIIT\\\\Pypy\\\\Speech Processing\\\\Emotion Detection\\\\EMO-DB\\\\Female\\\\neutral{}.wav'.format(nu), rate=rate, data=signal)\n",
    "\n",
    "        if f[5:6] == 'F':\n",
    "            h+=1\n",
    "            wavfile.write(filename='C:\\\\Users\\\\KIIT\\\\Pypy\\\\Speech Processing\\\\Emotion Detection\\\\EMO-DB\\\\Female\\\\happy{}.wav'.format(h), rate=rate, data=signal)\n",
    "\n",
    "        if f[5:6] == 'T':\n",
    "            s+=1\n",
    "            wavfile.write(filename='C:\\\\Users\\\\KIIT\\\\Pypy\\\\Speech Processing\\\\Emotion Detection\\\\EMO-DB\\\\Female\\\\sad{}.wav'.format(s), rate=rate, data=signal)\n",
    "\n",
    "        if f[5:6] == 'W':\n",
    "            a+=1\n",
    "            wavfile.write(filename='C:\\\\Users\\\\KIIT\\\\Pypy\\\\Speech Processing\\\\Emotion Detection\\\\EMO-DB\\\\Female\\\\angry{}.wav'.format(a), rate=rate, data=signal)\n",
    "\n",
    "        if f[5:6] == 'A':\n",
    "            fe+=1\n",
    "            wavfile.write(filename='C:\\\\Users\\\\KIIT\\\\Pypy\\\\Speech Processing\\\\Emotion Detection\\\\EMO-DB\\\\Female\\\\fear{}.wav'.format(fe), rate=rate, data=signal)\n",
    "\n",
    "        if f[5:6] == 'E':\n",
    "            d+=1\n",
    "            wavfile.write(filename='C:\\\\Users\\\\KIIT\\\\Pypy\\\\Speech Processing\\\\Emotion Detection\\\\EMO-DB\\\\Female\\\\disgust{}.wav'.format(d), rate=rate, data=signal)\n",
    "\n",
    "        if f[5:6] == 'L':\n",
    "            i+=1\n",
    "            wavfile.write(filename='C:\\\\Users\\\\KIIT\\\\Pypy\\\\Speech Processing\\\\Emotion Detection\\\\EMO-DB\\\\Female\\\\bored{}.wav'.format(i), rate=rate, data=signal)"
   ]
  },
  {
   "cell_type": "code",
   "execution_count": 8,
   "metadata": {},
   "outputs": [
    {
     "data": {
      "text/plain": [
       "'03'"
      ]
     },
     "execution_count": 8,
     "metadata": {},
     "output_type": "execute_result"
    }
   ],
   "source": []
  },
  {
   "cell_type": "code",
   "execution_count": null,
   "metadata": {},
   "outputs": [],
   "source": []
  }
 ],
 "metadata": {
  "kernelspec": {
   "display_name": "Python 3",
   "language": "python",
   "name": "python3"
  },
  "language_info": {
   "codemirror_mode": {
    "name": "ipython",
    "version": 3
   },
   "file_extension": ".py",
   "mimetype": "text/x-python",
   "name": "python",
   "nbconvert_exporter": "python",
   "pygments_lexer": "ipython3",
   "version": "3.6.8"
  }
 },
 "nbformat": 4,
 "nbformat_minor": 2
}
