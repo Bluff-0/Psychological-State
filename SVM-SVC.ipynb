{
 "cells": [
  {
   "cell_type": "code",
   "execution_count": 3,
   "metadata": {},
   "outputs": [],
   "source": [
    "import pandas as pd\n",
    "import numpy as np\n",
    "import matplotlib.pyplot as plt\n",
    "from sklearn.preprocessing import LabelEncoder\n",
    "\n",
    "from sklearn import svm\n",
    "from sklearn.metrics import accuracy_score"
   ]
  },
  {
   "cell_type": "markdown",
   "metadata": {},
   "source": [
    "## Training and Testing"
   ]
  },
  {
   "cell_type": "code",
   "execution_count": 16,
   "metadata": {},
   "outputs": [],
   "source": [
    "df= pd.read_csv('TORONTO/Processed_MFCCS_Old.csv')\n",
    "X= df.iloc[:, 1:131]\n",
    "y= df.iloc[:, 131]\n",
    "div= np.random.rand(len(df)) < 0.9\n",
    "X_train= X[div]\n",
    "X_test= X[~div]\n",
    "y_train= y[div]\n",
    "y_test= y[~div]\n",
    "\n",
    "\n",
    "X_train= np.array(X_train)\n",
    "y_train = np.array(y_train)\n",
    "X_test = np.array(X_test)\n",
    "y_test = np.array(y_test)"
   ]
  },
  {
   "cell_type": "code",
   "execution_count": 17,
   "metadata": {},
   "outputs": [
    {
     "data": {
      "text/plain": [
       "SVC(C=1.0, break_ties=False, cache_size=200, class_weight=None, coef0=0.0,\n",
       "    decision_function_shape='ovr', degree=3, gamma='scale', kernel='rbf',\n",
       "    max_iter=-1, probability=False, random_state=None, shrinking=True,\n",
       "    tol=0.001, verbose=False)"
      ]
     },
     "execution_count": 17,
     "metadata": {},
     "output_type": "execute_result"
    }
   ],
   "source": [
    "model = svm.SVC()\n",
    "model.fit(X_train, y_train)"
   ]
  },
  {
   "cell_type": "code",
   "execution_count": 18,
   "metadata": {},
   "outputs": [
    {
     "data": {
      "text/plain": [
       "90.625"
      ]
     },
     "execution_count": 18,
     "metadata": {},
     "output_type": "execute_result"
    }
   ],
   "source": [
    "predicted_labels = model.predict(X_test)\n",
    "acc= accuracy_score(y_test, predicted_labels) * 100\n",
    "acc"
   ]
  },
  {
   "cell_type": "markdown",
   "metadata": {},
   "source": [
    "## Live Data Test"
   ]
  },
  {
   "cell_type": "code",
   "execution_count": 15,
   "metadata": {},
   "outputs": [],
   "source": [
    "import librosa\n",
    "import librosa.display"
   ]
  },
  {
   "cell_type": "code",
   "execution_count": 25,
   "metadata": {},
   "outputs": [
    {
     "data": {
      "image/png": "[encoded data removed]",
      "text/plain": [
       "<Figure size 432x288 with 1 Axes>"
      ]
     },
     "metadata": {
      "needs_background": "light"
     },
     "output_type": "display_data"
    }
   ],
   "source": [
    "X, sampling_rate = librosa.load('Test/large_test.wav', res_type='kaiser_fast', sr=22050*2, offset=0.5)\n",
    "temp= []\n",
    "for i in range(0, X.shape[0]//(44100)):\n",
    "    temp.append(X[44100*i:44100*(i+1)])\n",
    "temp= np.array(temp)\n",
    "librosa.display.waveplot(X, sr=sampling_rate)\n",
    "plt.show()"
   ]
  },
  {
   "cell_type": "code",
   "execution_count": 26,
   "metadata": {},
   "outputs": [
    {
     "data": {
      "text/plain": [
       "array(['angry', 'angry', 'angry', 'angry', 'angry', 'fear', 'fear',\n",
       "       'fear', 'fear', 'angry', 'angry', 'angry', 'fear', 'angry',\n",
       "       'angry', 'fear', 'angry', 'angry', 'angry', 'fear', 'fear',\n",
       "       'angry', 'angry', 'fear', 'angry', 'angry', 'fear', 'fear',\n",
       "       'angry', 'fear', 'angry', 'angry', 'fear', 'fear', 'fear', 'fear',\n",
       "       'fear', 'fear', 'angry', 'angry', 'angry', 'angry', 'angry',\n",
       "       'angry', 'fear', 'angry', 'angry', 'angry', 'angry', 'angry',\n",
       "       'angry', 'fear', 'angry', 'angry', 'angry', 'angry', 'angry',\n",
       "       'angry', 'angry', 'fear', 'angry', 'angry', 'fear', 'fear', 'fear',\n",
       "       'angry', 'fear', 'angry', 'fear', 'fear', 'angry', 'angry', 'fear',\n",
       "       'angry', 'fear', 'fear', 'angry', 'angry', 'fear', 'fear', 'angry',\n",
       "       'angry', 'angry', 'fear', 'angry', 'fear', 'fear', 'fear', 'fear',\n",
       "       'fear', 'fear', 'fear', 'fear', 'fear', 'fear', 'fear', 'fear',\n",
       "       'fear', 'fear', 'angry', 'angry', 'fear', 'fear', 'fear', 'fear',\n",
       "       'fear', 'fear', 'fear', 'fear', 'fear', 'angry', 'angry', 'angry',\n",
       "       'angry', 'fear', 'angry', 'angry', 'fear', 'fear', 'angry',\n",
       "       'angry', 'angry', 'angry', 'fear', 'fear', 'angry', 'fear',\n",
       "       'angry', 'fear', 'angry', 'angry', 'fear', 'fear', 'angry',\n",
       "       'angry', 'fear', 'fear', 'angry', 'angry', 'fear', 'angry',\n",
       "       'angry', 'angry', 'fear', 'angry', 'angry', 'angry', 'fear',\n",
       "       'angry', 'fear', 'fear', 'angry', 'angry', 'angry', 'angry',\n",
       "       'angry', 'angry', 'angry', 'angry', 'fear', 'angry', 'fear',\n",
       "       'angry', 'fear', 'angry', 'angry', 'angry', 'fear', 'angry',\n",
       "       'angry', 'fear', 'angry', 'angry', 'angry', 'angry', 'fear',\n",
       "       'angry', 'fear', 'fear', 'fear', 'angry', 'angry', 'angry',\n",
       "       'angry', 'angry', 'angry', 'fear', 'angry', 'angry', 'fear',\n",
       "       'fear', 'fear', 'angry', 'angry', 'angry', 'fear', 'fear', 'fear',\n",
       "       'fear', 'fear', 'fear', 'fear', 'angry', 'fear', 'fear', 'fear',\n",
       "       'fear', 'fear', 'fear', 'fear', 'fear', 'fear', 'fear', 'angry',\n",
       "       'angry', 'fear', 'angry', 'angry', 'angry', 'fear', 'fear',\n",
       "       'angry', 'fear', 'fear', 'angry', 'fear', 'angry', 'fear', 'angry',\n",
       "       'fear', 'fear', 'fear', 'fear', 'fear', 'angry', 'angry', 'angry',\n",
       "       'fear', 'angry', 'angry', 'fear', 'angry', 'angry', 'angry',\n",
       "       'angry', 'angry', 'fear', 'angry', 'fear', 'angry', 'angry',\n",
       "       'fear', 'angry', 'angry', 'angry', 'angry', 'angry', 'angry',\n",
       "       'angry', 'angry', 'angry', 'angry', 'angry', 'angry', 'fear',\n",
       "       'angry', 'angry', 'angry', 'angry', 'angry', 'fear', 'angry',\n",
       "       'fear', 'angry', 'angry', 'angry', 'angry', 'fear', 'angry',\n",
       "       'angry', 'angry', 'angry', 'angry', 'angry', 'angry', 'angry',\n",
       "       'fear', 'angry', 'angry', 'angry', 'angry', 'angry', 'angry',\n",
       "       'angry', 'fear', 'angry', 'angry', 'angry', 'fear', 'angry',\n",
       "       'angry', 'fear', 'angry', 'fear', 'angry', 'angry', 'angry',\n",
       "       'fear', 'angry', 'angry', 'angry', 'angry', 'angry', 'angry',\n",
       "       'fear', 'angry', 'fear', 'angry', 'angry', 'fear', 'fear', 'angry',\n",
       "       'angry', 'fear', 'fear', 'fear', 'angry', 'angry', 'fear', 'fear',\n",
       "       'fear', 'fear', 'fear', 'angry', 'angry', 'angry', 'fear', 'angry',\n",
       "       'angry', 'angry', 'fear', 'fear', 'angry', 'angry', 'fear',\n",
       "       'angry', 'fear', 'angry', 'angry', 'angry', 'angry', 'angry',\n",
       "       'fear', 'angry', 'angry', 'fear', 'angry', 'angry', 'fear', 'fear',\n",
       "       'angry', 'angry', 'fear', 'angry', 'fear', 'angry', 'angry',\n",
       "       'angry', 'angry', 'fear', 'angry', 'angry', 'fear', 'angry',\n",
       "       'fear', 'fear', 'angry', 'fear', 'angry', 'angry', 'fear', 'fear',\n",
       "       'fear', 'fear', 'fear', 'fear', 'fear', 'fear', 'fear', 'fear',\n",
       "       'fear', 'fear', 'fear', 'fear', 'fear', 'angry', 'angry', 'angry',\n",
       "       'fear', 'fear', 'angry', 'fear', 'fear', 'angry', 'angry', 'angry'],\n",
       "      dtype=object)"
      ]
     },
     "execution_count": 26,
     "metadata": {},
     "output_type": "execute_result"
    }
   ],
   "source": [
    "featurelive=[]\n",
    "sample_rate = np.array(sampling_rate)\n",
    "for i in range(0, temp.shape[0]):\n",
    "    mfccs = np.mean(librosa.feature.mfcc(y=temp[i], sr=sample_rate, n_mfcc=13),axis=0)\n",
    "    l= mfccs.tolist()\n",
    "    for j in range(0, 130-len(mfccs)):\n",
    "        l.append(0)\n",
    "    mfccs= np.array(l)\n",
    "    featurelive.append(mfccs[:])\n",
    "livedf2 = featurelive\n",
    "livepreds= model.predict(livedf2)\n",
    "# for i in range(livepreds.shape[0]):\n",
    "#     feel_val[livepreds[i]]+=1\n",
    "livepreds"
   ]
  },
  {
   "cell_type": "code",
   "execution_count": null,
   "metadata": {},
   "outputs": [],
   "source": []
  }
 ],
 "metadata": {
  "kernelspec": {
   "display_name": "Python 3",
   "language": "python",
   "name": "python3"
  },
  "language_info": {
   "codemirror_mode": {
    "name": "ipython",
    "version": 3
   },
   "file_extension": ".py",
   "mimetype": "text/x-python",
   "name": "python",
   "nbconvert_exporter": "python",
   "pygments_lexer": "ipython3",
   "version": "3.6.8"
  }
 },
 "nbformat": 4,
 "nbformat_minor": 2
}
